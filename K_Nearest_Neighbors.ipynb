{
  "nbformat": 4,
  "nbformat_minor": 0,
  "metadata": {
    "colab": {
      "name": "K-Nearest Neighbors.ipynb",
      "provenance": []
    },
    "kernelspec": {
      "name": "python3",
      "display_name": "Python 3"
    },
    "language_info": {
      "name": "python"
    }
  },
  "cells": [
    {
      "cell_type": "markdown",
      "source": [
        "# **K-Nearest Neighbors**\n",
        "\n",
        "![k-nearest-neighbor.png](data:image/png;base64,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)\n",
        "\n"
      ],
      "metadata": {
        "id": "n8qCX_ssUe-i"
      }
    },
    {
      "cell_type": "markdown",
      "source": [
        "## ***IMPORTING LIBRARIES***"
      ],
      "metadata": {
        "id": "dXi7S3J8WM71"
      }
    },
    {
      "cell_type": "code",
      "execution_count": 1,
      "metadata": {
        "id": "R8GU7pyOUNSE"
      },
      "outputs": [],
      "source": [
        "import numpy as np\n",
        "import pandas as pd\n"
      ]
    },
    {
      "cell_type": "markdown",
      "source": [
        "## ***LOADING THE DATASET***"
      ],
      "metadata": {
        "id": "PmtYVXwYWf08"
      }
    },
    {
      "cell_type": "code",
      "source": [
        "data = pd.read_csv(\"income.csv\")\n",
        "data"
      ],
      "metadata": {
        "colab": {
          "base_uri": "https://localhost:8080/",
          "height": 800
        },
        "id": "BL8rPQemWePR",
        "outputId": "1137e026-cf9d-4e8f-ebfa-674b02bcc00a"
      },
      "execution_count": 2,
      "outputs": [
        {
          "output_type": "execute_result",
          "data": {
            "text/html": [
              "\n",
              "  <div id=\"df-f17782b8-6a9b-4e2e-8a41-fcb78866ce6e\">\n",
              "    <div class=\"colab-df-container\">\n",
              "      <div>\n",
              "<style scoped>\n",
              "    .dataframe tbody tr th:only-of-type {\n",
              "        vertical-align: middle;\n",
              "    }\n",
              "\n",
              "    .dataframe tbody tr th {\n",
              "        vertical-align: top;\n",
              "    }\n",
              "\n",
              "    .dataframe thead th {\n",
              "        text-align: right;\n",
              "    }\n",
              "</style>\n",
              "<table border=\"1\" class=\"dataframe\">\n",
              "  <thead>\n",
              "    <tr style=\"text-align: right;\">\n",
              "      <th></th>\n",
              "      <th>age</th>\n",
              "      <th>workclass</th>\n",
              "      <th>fnlwgt</th>\n",
              "      <th>education</th>\n",
              "      <th>educational-num</th>\n",
              "      <th>marital-status</th>\n",
              "      <th>occupation</th>\n",
              "      <th>relationship</th>\n",
              "      <th>race</th>\n",
              "      <th>gender</th>\n",
              "      <th>capital-gain</th>\n",
              "      <th>capital-loss</th>\n",
              "      <th>hours-per-week</th>\n",
              "      <th>native-country</th>\n",
              "      <th>income</th>\n",
              "    </tr>\n",
              "  </thead>\n",
              "  <tbody>\n",
              "    <tr>\n",
              "      <th>0</th>\n",
              "      <td>25</td>\n",
              "      <td>Private</td>\n",
              "      <td>226802</td>\n",
              "      <td>11th</td>\n",
              "      <td>7</td>\n",
              "      <td>Never-married</td>\n",
              "      <td>Machine-op-inspct</td>\n",
              "      <td>Own-child</td>\n",
              "      <td>Black</td>\n",
              "      <td>Male</td>\n",
              "      <td>0</td>\n",
              "      <td>0</td>\n",
              "      <td>40</td>\n",
              "      <td>United-States</td>\n",
              "      <td>&lt;=50K</td>\n",
              "    </tr>\n",
              "    <tr>\n",
              "      <th>1</th>\n",
              "      <td>38</td>\n",
              "      <td>Private</td>\n",
              "      <td>89814</td>\n",
              "      <td>HS-grad</td>\n",
              "      <td>9</td>\n",
              "      <td>Married-civ-spouse</td>\n",
              "      <td>Farming-fishing</td>\n",
              "      <td>Husband</td>\n",
              "      <td>White</td>\n",
              "      <td>Male</td>\n",
              "      <td>0</td>\n",
              "      <td>0</td>\n",
              "      <td>50</td>\n",
              "      <td>United-States</td>\n",
              "      <td>&lt;=50K</td>\n",
              "    </tr>\n",
              "    <tr>\n",
              "      <th>2</th>\n",
              "      <td>28</td>\n",
              "      <td>Local-gov</td>\n",
              "      <td>336951</td>\n",
              "      <td>Assoc-acdm</td>\n",
              "      <td>12</td>\n",
              "      <td>Married-civ-spouse</td>\n",
              "      <td>Protective-serv</td>\n",
              "      <td>Husband</td>\n",
              "      <td>White</td>\n",
              "      <td>Male</td>\n",
              "      <td>0</td>\n",
              "      <td>0</td>\n",
              "      <td>40</td>\n",
              "      <td>United-States</td>\n",
              "      <td>&gt;50K</td>\n",
              "    </tr>\n",
              "    <tr>\n",
              "      <th>3</th>\n",
              "      <td>44</td>\n",
              "      <td>Private</td>\n",
              "      <td>160323</td>\n",
              "      <td>Some-college</td>\n",
              "      <td>10</td>\n",
              "      <td>Married-civ-spouse</td>\n",
              "      <td>Machine-op-inspct</td>\n",
              "      <td>Husband</td>\n",
              "      <td>Black</td>\n",
              "      <td>Male</td>\n",
              "      <td>7688</td>\n",
              "      <td>0</td>\n",
              "      <td>40</td>\n",
              "      <td>United-States</td>\n",
              "      <td>&gt;50K</td>\n",
              "    </tr>\n",
              "    <tr>\n",
              "      <th>4</th>\n",
              "      <td>18</td>\n",
              "      <td>?</td>\n",
              "      <td>103497</td>\n",
              "      <td>Some-college</td>\n",
              "      <td>10</td>\n",
              "      <td>Never-married</td>\n",
              "      <td>?</td>\n",
              "      <td>Own-child</td>\n",
              "      <td>White</td>\n",
              "      <td>Female</td>\n",
              "      <td>0</td>\n",
              "      <td>0</td>\n",
              "      <td>30</td>\n",
              "      <td>United-States</td>\n",
              "      <td>&lt;=50K</td>\n",
              "    </tr>\n",
              "    <tr>\n",
              "      <th>...</th>\n",
              "      <td>...</td>\n",
              "      <td>...</td>\n",
              "      <td>...</td>\n",
              "      <td>...</td>\n",
              "      <td>...</td>\n",
              "      <td>...</td>\n",
              "      <td>...</td>\n",
              "      <td>...</td>\n",
              "      <td>...</td>\n",
              "      <td>...</td>\n",
              "      <td>...</td>\n",
              "      <td>...</td>\n",
              "      <td>...</td>\n",
              "      <td>...</td>\n",
              "      <td>...</td>\n",
              "    </tr>\n",
              "    <tr>\n",
              "      <th>48837</th>\n",
              "      <td>27</td>\n",
              "      <td>Private</td>\n",
              "      <td>257302</td>\n",
              "      <td>Assoc-acdm</td>\n",
              "      <td>12</td>\n",
              "      <td>Married-civ-spouse</td>\n",
              "      <td>Tech-support</td>\n",
              "      <td>Wife</td>\n",
              "      <td>White</td>\n",
              "      <td>Female</td>\n",
              "      <td>0</td>\n",
              "      <td>0</td>\n",
              "      <td>38</td>\n",
              "      <td>United-States</td>\n",
              "      <td>&lt;=50K</td>\n",
              "    </tr>\n",
              "    <tr>\n",
              "      <th>48838</th>\n",
              "      <td>40</td>\n",
              "      <td>Private</td>\n",
              "      <td>154374</td>\n",
              "      <td>HS-grad</td>\n",
              "      <td>9</td>\n",
              "      <td>Married-civ-spouse</td>\n",
              "      <td>Machine-op-inspct</td>\n",
              "      <td>Husband</td>\n",
              "      <td>White</td>\n",
              "      <td>Male</td>\n",
              "      <td>0</td>\n",
              "      <td>0</td>\n",
              "      <td>40</td>\n",
              "      <td>United-States</td>\n",
              "      <td>&gt;50K</td>\n",
              "    </tr>\n",
              "    <tr>\n",
              "      <th>48839</th>\n",
              "      <td>58</td>\n",
              "      <td>Private</td>\n",
              "      <td>151910</td>\n",
              "      <td>HS-grad</td>\n",
              "      <td>9</td>\n",
              "      <td>Widowed</td>\n",
              "      <td>Adm-clerical</td>\n",
              "      <td>Unmarried</td>\n",
              "      <td>White</td>\n",
              "      <td>Female</td>\n",
              "      <td>0</td>\n",
              "      <td>0</td>\n",
              "      <td>40</td>\n",
              "      <td>United-States</td>\n",
              "      <td>&lt;=50K</td>\n",
              "    </tr>\n",
              "    <tr>\n",
              "      <th>48840</th>\n",
              "      <td>22</td>\n",
              "      <td>Private</td>\n",
              "      <td>201490</td>\n",
              "      <td>HS-grad</td>\n",
              "      <td>9</td>\n",
              "      <td>Never-married</td>\n",
              "      <td>Adm-clerical</td>\n",
              "      <td>Own-child</td>\n",
              "      <td>White</td>\n",
              "      <td>Male</td>\n",
              "      <td>0</td>\n",
              "      <td>0</td>\n",
              "      <td>20</td>\n",
              "      <td>United-States</td>\n",
              "      <td>&lt;=50K</td>\n",
              "    </tr>\n",
              "    <tr>\n",
              "      <th>48841</th>\n",
              "      <td>52</td>\n",
              "      <td>Self-emp-inc</td>\n",
              "      <td>287927</td>\n",
              "      <td>HS-grad</td>\n",
              "      <td>9</td>\n",
              "      <td>Married-civ-spouse</td>\n",
              "      <td>Exec-managerial</td>\n",
              "      <td>Wife</td>\n",
              "      <td>White</td>\n",
              "      <td>Female</td>\n",
              "      <td>15024</td>\n",
              "      <td>0</td>\n",
              "      <td>40</td>\n",
              "      <td>United-States</td>\n",
              "      <td>&gt;50K</td>\n",
              "    </tr>\n",
              "  </tbody>\n",
              "</table>\n",
              "<p>48842 rows × 15 columns</p>\n",
              "</div>\n",
              "      <button class=\"colab-df-convert\" onclick=\"convertToInteractive('df-f17782b8-6a9b-4e2e-8a41-fcb78866ce6e')\"\n",
              "              title=\"Convert this dataframe to an interactive table.\"\n",
              "              style=\"display:none;\">\n",
              "        \n",
              "  <svg xmlns=\"http://www.w3.org/2000/svg\" height=\"24px\"viewBox=\"0 0 24 24\"\n",
              "       width=\"24px\">\n",
              "    <path d=\"M0 0h24v24H0V0z\" fill=\"none\"/>\n",
              "    <path d=\"M18.56 5.44l.94 2.06.94-2.06 2.06-.94-2.06-.94-.94-2.06-.94 2.06-2.06.94zm-11 1L8.5 8.5l.94-2.06 2.06-.94-2.06-.94L8.5 2.5l-.94 2.06-2.06.94zm10 10l.94 2.06.94-2.06 2.06-.94-2.06-.94-.94-2.06-.94 2.06-2.06.94z\"/><path d=\"M17.41 7.96l-1.37-1.37c-.4-.4-.92-.59-1.43-.59-.52 0-1.04.2-1.43.59L10.3 9.45l-7.72 7.72c-.78.78-.78 2.05 0 2.83L4 21.41c.39.39.9.59 1.41.59.51 0 1.02-.2 1.41-.59l7.78-7.78 2.81-2.81c.8-.78.8-2.07 0-2.86zM5.41 20L4 18.59l7.72-7.72 1.47 1.35L5.41 20z\"/>\n",
              "  </svg>\n",
              "      </button>\n",
              "      \n",
              "  <style>\n",
              "    .colab-df-container {\n",
              "      display:flex;\n",
              "      flex-wrap:wrap;\n",
              "      gap: 12px;\n",
              "    }\n",
              "\n",
              "    .colab-df-convert {\n",
              "      background-color: #E8F0FE;\n",
              "      border: none;\n",
              "      border-radius: 50%;\n",
              "      cursor: pointer;\n",
              "      display: none;\n",
              "      fill: #1967D2;\n",
              "      height: 32px;\n",
              "      padding: 0 0 0 0;\n",
              "      width: 32px;\n",
              "    }\n",
              "\n",
              "    .colab-df-convert:hover {\n",
              "      background-color: #E2EBFA;\n",
              "      box-shadow: 0px 1px 2px rgba(60, 64, 67, 0.3), 0px 1px 3px 1px rgba(60, 64, 67, 0.15);\n",
              "      fill: #174EA6;\n",
              "    }\n",
              "\n",
              "    [theme=dark] .colab-df-convert {\n",
              "      background-color: #3B4455;\n",
              "      fill: #D2E3FC;\n",
              "    }\n",
              "\n",
              "    [theme=dark] .colab-df-convert:hover {\n",
              "      background-color: #434B5C;\n",
              "      box-shadow: 0px 1px 3px 1px rgba(0, 0, 0, 0.15);\n",
              "      filter: drop-shadow(0px 1px 2px rgba(0, 0, 0, 0.3));\n",
              "      fill: #FFFFFF;\n",
              "    }\n",
              "  </style>\n",
              "\n",
              "      <script>\n",
              "        const buttonEl =\n",
              "          document.querySelector('#df-f17782b8-6a9b-4e2e-8a41-fcb78866ce6e button.colab-df-convert');\n",
              "        buttonEl.style.display =\n",
              "          google.colab.kernel.accessAllowed ? 'block' : 'none';\n",
              "\n",
              "        async function convertToInteractive(key) {\n",
              "          const element = document.querySelector('#df-f17782b8-6a9b-4e2e-8a41-fcb78866ce6e');\n",
              "          const dataTable =\n",
              "            await google.colab.kernel.invokeFunction('convertToInteractive',\n",
              "                                                     [key], {});\n",
              "          if (!dataTable) return;\n",
              "\n",
              "          const docLinkHtml = 'Like what you see? Visit the ' +\n",
              "            '<a target=\"_blank\" href=https://colab.research.google.com/notebooks/data_table.ipynb>data table notebook</a>'\n",
              "            + ' to learn more about interactive tables.';\n",
              "          element.innerHTML = '';\n",
              "          dataTable['output_type'] = 'display_data';\n",
              "          await google.colab.output.renderOutput(dataTable, element);\n",
              "          const docLink = document.createElement('div');\n",
              "          docLink.innerHTML = docLinkHtml;\n",
              "          element.appendChild(docLink);\n",
              "        }\n",
              "      </script>\n",
              "    </div>\n",
              "  </div>\n",
              "  "
            ],
            "text/plain": [
              "       age     workclass  fnlwgt  ... hours-per-week  native-country income\n",
              "0       25       Private  226802  ...             40   United-States  <=50K\n",
              "1       38       Private   89814  ...             50   United-States  <=50K\n",
              "2       28     Local-gov  336951  ...             40   United-States   >50K\n",
              "3       44       Private  160323  ...             40   United-States   >50K\n",
              "4       18             ?  103497  ...             30   United-States  <=50K\n",
              "...    ...           ...     ...  ...            ...             ...    ...\n",
              "48837   27       Private  257302  ...             38   United-States  <=50K\n",
              "48838   40       Private  154374  ...             40   United-States   >50K\n",
              "48839   58       Private  151910  ...             40   United-States  <=50K\n",
              "48840   22       Private  201490  ...             20   United-States  <=50K\n",
              "48841   52  Self-emp-inc  287927  ...             40   United-States   >50K\n",
              "\n",
              "[48842 rows x 15 columns]"
            ]
          },
          "metadata": {},
          "execution_count": 2
        }
      ]
    },
    {
      "cell_type": "markdown",
      "source": [
        "## ***SUMMARIZING THE DATASET***"
      ],
      "metadata": {
        "id": "FzDHwAFVXo5z"
      }
    },
    {
      "cell_type": "code",
      "source": [
        "print(data.shape)\n",
        "print(data.head())"
      ],
      "metadata": {
        "colab": {
          "base_uri": "https://localhost:8080/"
        },
        "id": "IQsgmxfZXRSY",
        "outputId": "95c5244f-c991-449d-9729-2c6a562aa1bb"
      },
      "execution_count": 3,
      "outputs": [
        {
          "output_type": "stream",
          "name": "stdout",
          "text": [
            "(48842, 15)\n",
            "   age  workclass  fnlwgt  ... hours-per-week  native-country income\n",
            "0   25    Private  226802  ...             40   United-States  <=50K\n",
            "1   38    Private   89814  ...             50   United-States  <=50K\n",
            "2   28  Local-gov  336951  ...             40   United-States   >50K\n",
            "3   44    Private  160323  ...             40   United-States   >50K\n",
            "4   18          ?  103497  ...             30   United-States  <=50K\n",
            "\n",
            "[5 rows x 15 columns]\n"
          ]
        }
      ]
    },
    {
      "cell_type": "markdown",
      "source": [
        "## ***PRE-PROCESSING THE DATASET***"
      ],
      "metadata": {
        "id": "O_njvPdYYBu_"
      }
    },
    {
      "cell_type": "code",
      "source": [
        "data = data.drop([\"workclass\",\"fnlwgt\",\"education\",\"marital-status\",\"occupation\",\"relationship\",\"race\",\"gender\",\"capital-loss\",\"native-country\"],axis = 1)"
      ],
      "metadata": {
        "id": "uijn8n0uX32D"
      },
      "execution_count": 4,
      "outputs": []
    },
    {
      "cell_type": "code",
      "source": [
        "data"
      ],
      "metadata": {
        "colab": {
          "base_uri": "https://localhost:8080/",
          "height": 424
        },
        "id": "DAcMjfFyb2t3",
        "outputId": "65cca7db-c7d7-4246-c47a-d3090239e58a"
      },
      "execution_count": 5,
      "outputs": [
        {
          "output_type": "execute_result",
          "data": {
            "text/html": [
              "\n",
              "  <div id=\"df-3e0f6e1f-e1c4-42fc-8149-f40adee6ae2d\">\n",
              "    <div class=\"colab-df-container\">\n",
              "      <div>\n",
              "<style scoped>\n",
              "    .dataframe tbody tr th:only-of-type {\n",
              "        vertical-align: middle;\n",
              "    }\n",
              "\n",
              "    .dataframe tbody tr th {\n",
              "        vertical-align: top;\n",
              "    }\n",
              "\n",
              "    .dataframe thead th {\n",
              "        text-align: right;\n",
              "    }\n",
              "</style>\n",
              "<table border=\"1\" class=\"dataframe\">\n",
              "  <thead>\n",
              "    <tr style=\"text-align: right;\">\n",
              "      <th></th>\n",
              "      <th>age</th>\n",
              "      <th>educational-num</th>\n",
              "      <th>capital-gain</th>\n",
              "      <th>hours-per-week</th>\n",
              "      <th>income</th>\n",
              "    </tr>\n",
              "  </thead>\n",
              "  <tbody>\n",
              "    <tr>\n",
              "      <th>0</th>\n",
              "      <td>25</td>\n",
              "      <td>7</td>\n",
              "      <td>0</td>\n",
              "      <td>40</td>\n",
              "      <td>&lt;=50K</td>\n",
              "    </tr>\n",
              "    <tr>\n",
              "      <th>1</th>\n",
              "      <td>38</td>\n",
              "      <td>9</td>\n",
              "      <td>0</td>\n",
              "      <td>50</td>\n",
              "      <td>&lt;=50K</td>\n",
              "    </tr>\n",
              "    <tr>\n",
              "      <th>2</th>\n",
              "      <td>28</td>\n",
              "      <td>12</td>\n",
              "      <td>0</td>\n",
              "      <td>40</td>\n",
              "      <td>&gt;50K</td>\n",
              "    </tr>\n",
              "    <tr>\n",
              "      <th>3</th>\n",
              "      <td>44</td>\n",
              "      <td>10</td>\n",
              "      <td>7688</td>\n",
              "      <td>40</td>\n",
              "      <td>&gt;50K</td>\n",
              "    </tr>\n",
              "    <tr>\n",
              "      <th>4</th>\n",
              "      <td>18</td>\n",
              "      <td>10</td>\n",
              "      <td>0</td>\n",
              "      <td>30</td>\n",
              "      <td>&lt;=50K</td>\n",
              "    </tr>\n",
              "    <tr>\n",
              "      <th>...</th>\n",
              "      <td>...</td>\n",
              "      <td>...</td>\n",
              "      <td>...</td>\n",
              "      <td>...</td>\n",
              "      <td>...</td>\n",
              "    </tr>\n",
              "    <tr>\n",
              "      <th>48837</th>\n",
              "      <td>27</td>\n",
              "      <td>12</td>\n",
              "      <td>0</td>\n",
              "      <td>38</td>\n",
              "      <td>&lt;=50K</td>\n",
              "    </tr>\n",
              "    <tr>\n",
              "      <th>48838</th>\n",
              "      <td>40</td>\n",
              "      <td>9</td>\n",
              "      <td>0</td>\n",
              "      <td>40</td>\n",
              "      <td>&gt;50K</td>\n",
              "    </tr>\n",
              "    <tr>\n",
              "      <th>48839</th>\n",
              "      <td>58</td>\n",
              "      <td>9</td>\n",
              "      <td>0</td>\n",
              "      <td>40</td>\n",
              "      <td>&lt;=50K</td>\n",
              "    </tr>\n",
              "    <tr>\n",
              "      <th>48840</th>\n",
              "      <td>22</td>\n",
              "      <td>9</td>\n",
              "      <td>0</td>\n",
              "      <td>20</td>\n",
              "      <td>&lt;=50K</td>\n",
              "    </tr>\n",
              "    <tr>\n",
              "      <th>48841</th>\n",
              "      <td>52</td>\n",
              "      <td>9</td>\n",
              "      <td>15024</td>\n",
              "      <td>40</td>\n",
              "      <td>&gt;50K</td>\n",
              "    </tr>\n",
              "  </tbody>\n",
              "</table>\n",
              "<p>48842 rows × 5 columns</p>\n",
              "</div>\n",
              "      <button class=\"colab-df-convert\" onclick=\"convertToInteractive('df-3e0f6e1f-e1c4-42fc-8149-f40adee6ae2d')\"\n",
              "              title=\"Convert this dataframe to an interactive table.\"\n",
              "              style=\"display:none;\">\n",
              "        \n",
              "  <svg xmlns=\"http://www.w3.org/2000/svg\" height=\"24px\"viewBox=\"0 0 24 24\"\n",
              "       width=\"24px\">\n",
              "    <path d=\"M0 0h24v24H0V0z\" fill=\"none\"/>\n",
              "    <path d=\"M18.56 5.44l.94 2.06.94-2.06 2.06-.94-2.06-.94-.94-2.06-.94 2.06-2.06.94zm-11 1L8.5 8.5l.94-2.06 2.06-.94-2.06-.94L8.5 2.5l-.94 2.06-2.06.94zm10 10l.94 2.06.94-2.06 2.06-.94-2.06-.94-.94-2.06-.94 2.06-2.06.94z\"/><path d=\"M17.41 7.96l-1.37-1.37c-.4-.4-.92-.59-1.43-.59-.52 0-1.04.2-1.43.59L10.3 9.45l-7.72 7.72c-.78.78-.78 2.05 0 2.83L4 21.41c.39.39.9.59 1.41.59.51 0 1.02-.2 1.41-.59l7.78-7.78 2.81-2.81c.8-.78.8-2.07 0-2.86zM5.41 20L4 18.59l7.72-7.72 1.47 1.35L5.41 20z\"/>\n",
              "  </svg>\n",
              "      </button>\n",
              "      \n",
              "  <style>\n",
              "    .colab-df-container {\n",
              "      display:flex;\n",
              "      flex-wrap:wrap;\n",
              "      gap: 12px;\n",
              "    }\n",
              "\n",
              "    .colab-df-convert {\n",
              "      background-color: #E8F0FE;\n",
              "      border: none;\n",
              "      border-radius: 50%;\n",
              "      cursor: pointer;\n",
              "      display: none;\n",
              "      fill: #1967D2;\n",
              "      height: 32px;\n",
              "      padding: 0 0 0 0;\n",
              "      width: 32px;\n",
              "    }\n",
              "\n",
              "    .colab-df-convert:hover {\n",
              "      background-color: #E2EBFA;\n",
              "      box-shadow: 0px 1px 2px rgba(60, 64, 67, 0.3), 0px 1px 3px 1px rgba(60, 64, 67, 0.15);\n",
              "      fill: #174EA6;\n",
              "    }\n",
              "\n",
              "    [theme=dark] .colab-df-convert {\n",
              "      background-color: #3B4455;\n",
              "      fill: #D2E3FC;\n",
              "    }\n",
              "\n",
              "    [theme=dark] .colab-df-convert:hover {\n",
              "      background-color: #434B5C;\n",
              "      box-shadow: 0px 1px 3px 1px rgba(0, 0, 0, 0.15);\n",
              "      filter: drop-shadow(0px 1px 2px rgba(0, 0, 0, 0.3));\n",
              "      fill: #FFFFFF;\n",
              "    }\n",
              "  </style>\n",
              "\n",
              "      <script>\n",
              "        const buttonEl =\n",
              "          document.querySelector('#df-3e0f6e1f-e1c4-42fc-8149-f40adee6ae2d button.colab-df-convert');\n",
              "        buttonEl.style.display =\n",
              "          google.colab.kernel.accessAllowed ? 'block' : 'none';\n",
              "\n",
              "        async function convertToInteractive(key) {\n",
              "          const element = document.querySelector('#df-3e0f6e1f-e1c4-42fc-8149-f40adee6ae2d');\n",
              "          const dataTable =\n",
              "            await google.colab.kernel.invokeFunction('convertToInteractive',\n",
              "                                                     [key], {});\n",
              "          if (!dataTable) return;\n",
              "\n",
              "          const docLinkHtml = 'Like what you see? Visit the ' +\n",
              "            '<a target=\"_blank\" href=https://colab.research.google.com/notebooks/data_table.ipynb>data table notebook</a>'\n",
              "            + ' to learn more about interactive tables.';\n",
              "          element.innerHTML = '';\n",
              "          dataTable['output_type'] = 'display_data';\n",
              "          await google.colab.output.renderOutput(dataTable, element);\n",
              "          const docLink = document.createElement('div');\n",
              "          docLink.innerHTML = docLinkHtml;\n",
              "          element.appendChild(docLink);\n",
              "        }\n",
              "      </script>\n",
              "    </div>\n",
              "  </div>\n",
              "  "
            ],
            "text/plain": [
              "       age  educational-num  capital-gain  hours-per-week income\n",
              "0       25                7             0              40  <=50K\n",
              "1       38                9             0              50  <=50K\n",
              "2       28               12             0              40   >50K\n",
              "3       44               10          7688              40   >50K\n",
              "4       18               10             0              30  <=50K\n",
              "...    ...              ...           ...             ...    ...\n",
              "48837   27               12             0              38  <=50K\n",
              "48838   40                9             0              40   >50K\n",
              "48839   58                9             0              40  <=50K\n",
              "48840   22                9             0              20  <=50K\n",
              "48841   52                9         15024              40   >50K\n",
              "\n",
              "[48842 rows x 5 columns]"
            ]
          },
          "metadata": {},
          "execution_count": 5
        }
      ]
    },
    {
      "cell_type": "markdown",
      "source": [
        "## ***MAPPING THE INCOME COLUMN TO BINARY VALUE***"
      ],
      "metadata": {
        "id": "yUfa-hMLdBOq"
      }
    },
    {
      "cell_type": "code",
      "source": [
        "data[\"income\"] = data[\"income\"].map({\"<=50K\" : 0 ,\">50K\" : 1 }).astype(int)"
      ],
      "metadata": {
        "id": "JS0KcqGCb6Oi"
      },
      "execution_count": 6,
      "outputs": []
    },
    {
      "cell_type": "code",
      "source": [
        "data"
      ],
      "metadata": {
        "colab": {
          "base_uri": "https://localhost:8080/",
          "height": 424
        },
        "id": "-5UGiCQNep3_",
        "outputId": "04aa7ac0-2a8c-4742-9ac9-0916ee5658aa"
      },
      "execution_count": 7,
      "outputs": [
        {
          "output_type": "execute_result",
          "data": {
            "text/html": [
              "\n",
              "  <div id=\"df-29383d3c-f440-45cc-bb6f-cf392e72820b\">\n",
              "    <div class=\"colab-df-container\">\n",
              "      <div>\n",
              "<style scoped>\n",
              "    .dataframe tbody tr th:only-of-type {\n",
              "        vertical-align: middle;\n",
              "    }\n",
              "\n",
              "    .dataframe tbody tr th {\n",
              "        vertical-align: top;\n",
              "    }\n",
              "\n",
              "    .dataframe thead th {\n",
              "        text-align: right;\n",
              "    }\n",
              "</style>\n",
              "<table border=\"1\" class=\"dataframe\">\n",
              "  <thead>\n",
              "    <tr style=\"text-align: right;\">\n",
              "      <th></th>\n",
              "      <th>age</th>\n",
              "      <th>educational-num</th>\n",
              "      <th>capital-gain</th>\n",
              "      <th>hours-per-week</th>\n",
              "      <th>income</th>\n",
              "    </tr>\n",
              "  </thead>\n",
              "  <tbody>\n",
              "    <tr>\n",
              "      <th>0</th>\n",
              "      <td>25</td>\n",
              "      <td>7</td>\n",
              "      <td>0</td>\n",
              "      <td>40</td>\n",
              "      <td>0</td>\n",
              "    </tr>\n",
              "    <tr>\n",
              "      <th>1</th>\n",
              "      <td>38</td>\n",
              "      <td>9</td>\n",
              "      <td>0</td>\n",
              "      <td>50</td>\n",
              "      <td>0</td>\n",
              "    </tr>\n",
              "    <tr>\n",
              "      <th>2</th>\n",
              "      <td>28</td>\n",
              "      <td>12</td>\n",
              "      <td>0</td>\n",
              "      <td>40</td>\n",
              "      <td>1</td>\n",
              "    </tr>\n",
              "    <tr>\n",
              "      <th>3</th>\n",
              "      <td>44</td>\n",
              "      <td>10</td>\n",
              "      <td>7688</td>\n",
              "      <td>40</td>\n",
              "      <td>1</td>\n",
              "    </tr>\n",
              "    <tr>\n",
              "      <th>4</th>\n",
              "      <td>18</td>\n",
              "      <td>10</td>\n",
              "      <td>0</td>\n",
              "      <td>30</td>\n",
              "      <td>0</td>\n",
              "    </tr>\n",
              "    <tr>\n",
              "      <th>...</th>\n",
              "      <td>...</td>\n",
              "      <td>...</td>\n",
              "      <td>...</td>\n",
              "      <td>...</td>\n",
              "      <td>...</td>\n",
              "    </tr>\n",
              "    <tr>\n",
              "      <th>48837</th>\n",
              "      <td>27</td>\n",
              "      <td>12</td>\n",
              "      <td>0</td>\n",
              "      <td>38</td>\n",
              "      <td>0</td>\n",
              "    </tr>\n",
              "    <tr>\n",
              "      <th>48838</th>\n",
              "      <td>40</td>\n",
              "      <td>9</td>\n",
              "      <td>0</td>\n",
              "      <td>40</td>\n",
              "      <td>1</td>\n",
              "    </tr>\n",
              "    <tr>\n",
              "      <th>48839</th>\n",
              "      <td>58</td>\n",
              "      <td>9</td>\n",
              "      <td>0</td>\n",
              "      <td>40</td>\n",
              "      <td>0</td>\n",
              "    </tr>\n",
              "    <tr>\n",
              "      <th>48840</th>\n",
              "      <td>22</td>\n",
              "      <td>9</td>\n",
              "      <td>0</td>\n",
              "      <td>20</td>\n",
              "      <td>0</td>\n",
              "    </tr>\n",
              "    <tr>\n",
              "      <th>48841</th>\n",
              "      <td>52</td>\n",
              "      <td>9</td>\n",
              "      <td>15024</td>\n",
              "      <td>40</td>\n",
              "      <td>1</td>\n",
              "    </tr>\n",
              "  </tbody>\n",
              "</table>\n",
              "<p>48842 rows × 5 columns</p>\n",
              "</div>\n",
              "      <button class=\"colab-df-convert\" onclick=\"convertToInteractive('df-29383d3c-f440-45cc-bb6f-cf392e72820b')\"\n",
              "              title=\"Convert this dataframe to an interactive table.\"\n",
              "              style=\"display:none;\">\n",
              "        \n",
              "  <svg xmlns=\"http://www.w3.org/2000/svg\" height=\"24px\"viewBox=\"0 0 24 24\"\n",
              "       width=\"24px\">\n",
              "    <path d=\"M0 0h24v24H0V0z\" fill=\"none\"/>\n",
              "    <path d=\"M18.56 5.44l.94 2.06.94-2.06 2.06-.94-2.06-.94-.94-2.06-.94 2.06-2.06.94zm-11 1L8.5 8.5l.94-2.06 2.06-.94-2.06-.94L8.5 2.5l-.94 2.06-2.06.94zm10 10l.94 2.06.94-2.06 2.06-.94-2.06-.94-.94-2.06-.94 2.06-2.06.94z\"/><path d=\"M17.41 7.96l-1.37-1.37c-.4-.4-.92-.59-1.43-.59-.52 0-1.04.2-1.43.59L10.3 9.45l-7.72 7.72c-.78.78-.78 2.05 0 2.83L4 21.41c.39.39.9.59 1.41.59.51 0 1.02-.2 1.41-.59l7.78-7.78 2.81-2.81c.8-.78.8-2.07 0-2.86zM5.41 20L4 18.59l7.72-7.72 1.47 1.35L5.41 20z\"/>\n",
              "  </svg>\n",
              "      </button>\n",
              "      \n",
              "  <style>\n",
              "    .colab-df-container {\n",
              "      display:flex;\n",
              "      flex-wrap:wrap;\n",
              "      gap: 12px;\n",
              "    }\n",
              "\n",
              "    .colab-df-convert {\n",
              "      background-color: #E8F0FE;\n",
              "      border: none;\n",
              "      border-radius: 50%;\n",
              "      cursor: pointer;\n",
              "      display: none;\n",
              "      fill: #1967D2;\n",
              "      height: 32px;\n",
              "      padding: 0 0 0 0;\n",
              "      width: 32px;\n",
              "    }\n",
              "\n",
              "    .colab-df-convert:hover {\n",
              "      background-color: #E2EBFA;\n",
              "      box-shadow: 0px 1px 2px rgba(60, 64, 67, 0.3), 0px 1px 3px 1px rgba(60, 64, 67, 0.15);\n",
              "      fill: #174EA6;\n",
              "    }\n",
              "\n",
              "    [theme=dark] .colab-df-convert {\n",
              "      background-color: #3B4455;\n",
              "      fill: #D2E3FC;\n",
              "    }\n",
              "\n",
              "    [theme=dark] .colab-df-convert:hover {\n",
              "      background-color: #434B5C;\n",
              "      box-shadow: 0px 1px 3px 1px rgba(0, 0, 0, 0.15);\n",
              "      filter: drop-shadow(0px 1px 2px rgba(0, 0, 0, 0.3));\n",
              "      fill: #FFFFFF;\n",
              "    }\n",
              "  </style>\n",
              "\n",
              "      <script>\n",
              "        const buttonEl =\n",
              "          document.querySelector('#df-29383d3c-f440-45cc-bb6f-cf392e72820b button.colab-df-convert');\n",
              "        buttonEl.style.display =\n",
              "          google.colab.kernel.accessAllowed ? 'block' : 'none';\n",
              "\n",
              "        async function convertToInteractive(key) {\n",
              "          const element = document.querySelector('#df-29383d3c-f440-45cc-bb6f-cf392e72820b');\n",
              "          const dataTable =\n",
              "            await google.colab.kernel.invokeFunction('convertToInteractive',\n",
              "                                                     [key], {});\n",
              "          if (!dataTable) return;\n",
              "\n",
              "          const docLinkHtml = 'Like what you see? Visit the ' +\n",
              "            '<a target=\"_blank\" href=https://colab.research.google.com/notebooks/data_table.ipynb>data table notebook</a>'\n",
              "            + ' to learn more about interactive tables.';\n",
              "          element.innerHTML = '';\n",
              "          dataTable['output_type'] = 'display_data';\n",
              "          await google.colab.output.renderOutput(dataTable, element);\n",
              "          const docLink = document.createElement('div');\n",
              "          docLink.innerHTML = docLinkHtml;\n",
              "          element.appendChild(docLink);\n",
              "        }\n",
              "      </script>\n",
              "    </div>\n",
              "  </div>\n",
              "  "
            ],
            "text/plain": [
              "       age  educational-num  capital-gain  hours-per-week  income\n",
              "0       25                7             0              40       0\n",
              "1       38                9             0              50       0\n",
              "2       28               12             0              40       1\n",
              "3       44               10          7688              40       1\n",
              "4       18               10             0              30       0\n",
              "...    ...              ...           ...             ...     ...\n",
              "48837   27               12             0              38       0\n",
              "48838   40                9             0              40       1\n",
              "48839   58                9             0              40       0\n",
              "48840   22                9             0              20       0\n",
              "48841   52                9         15024              40       1\n",
              "\n",
              "[48842 rows x 5 columns]"
            ]
          },
          "metadata": {},
          "execution_count": 7
        }
      ]
    },
    {
      "cell_type": "markdown",
      "source": [
        "## ***SEGREGATING THE DATASET INTO INPUT AND OUTPUT***"
      ],
      "metadata": {
        "id": "WZl8vwVJevJ5"
      }
    },
    {
      "cell_type": "code",
      "source": [
        "input  = data.iloc[:,:-1].values\n",
        "print(input)\n",
        "\n",
        "output = data.iloc[:,-1:].values\n",
        "print(output)"
      ],
      "metadata": {
        "colab": {
          "base_uri": "https://localhost:8080/"
        },
        "id": "8IBJF8u_esYc",
        "outputId": "b3370f66-b007-4e3b-8926-cbf10544ff3d"
      },
      "execution_count": 8,
      "outputs": [
        {
          "output_type": "stream",
          "name": "stdout",
          "text": [
            "[[   25     7     0    40]\n",
            " [   38     9     0    50]\n",
            " [   28    12     0    40]\n",
            " ...\n",
            " [   58     9     0    40]\n",
            " [   22     9     0    20]\n",
            " [   52     9 15024    40]]\n",
            "[[0]\n",
            " [0]\n",
            " [1]\n",
            " ...\n",
            " [0]\n",
            " [0]\n",
            " [1]]\n"
          ]
        }
      ]
    },
    {
      "cell_type": "markdown",
      "source": [
        "## ***FEATURE SCALING***"
      ],
      "metadata": {
        "id": "vrcpvt-vfmVu"
      }
    },
    {
      "cell_type": "code",
      "source": [
        "from sklearn.preprocessing import StandardScaler\n",
        "scaling      = StandardScaler()\n",
        "scaled_input = scaling.fit_transform(input)\n",
        "\n",
        "scaled_input"
      ],
      "metadata": {
        "colab": {
          "base_uri": "https://localhost:8080/"
        },
        "id": "kfYxe4pHfQHl",
        "outputId": "fd956b49-95f2-4ca6-ede5-9c33b202a524"
      },
      "execution_count": 9,
      "outputs": [
        {
          "output_type": "execute_result",
          "data": {
            "text/plain": [
              "array([[-0.99512893, -1.19725891, -0.14480353, -0.03408696],\n",
              "       [-0.04694151, -0.41933527, -0.14480353,  0.77292975],\n",
              "       [-0.77631645,  0.74755018, -0.14480353, -0.03408696],\n",
              "       ...,\n",
              "       [ 1.41180837, -0.41933527, -0.14480353, -0.03408696],\n",
              "       [-1.21394141, -0.41933527, -0.14480353, -1.64812038],\n",
              "       [ 0.97418341, -0.41933527,  1.87131501, -0.03408696]])"
            ]
          },
          "metadata": {},
          "execution_count": 9
        }
      ]
    },
    {
      "cell_type": "markdown",
      "source": [
        "## ***SPLITTING THE DATASET INTO TRAIN AND TEST DATA***"
      ],
      "metadata": {
        "id": "K2M0yXMZgGn3"
      }
    },
    {
      "cell_type": "code",
      "source": [
        "from sklearn.model_selection import train_test_split\n",
        "\n",
        "x_train, x_test, y_train, y_test = train_test_split(scaled_input,output)"
      ],
      "metadata": {
        "id": "7nviOJhhf_0M"
      },
      "execution_count": 10,
      "outputs": []
    },
    {
      "cell_type": "markdown",
      "source": [
        "## ***FINDING THE BEST K-VALUE***"
      ],
      "metadata": {
        "id": "RfSnQkyPg1AY"
      }
    },
    {
      "cell_type": "code",
      "source": [
        "from sklearn.neighbors import KNeighborsClassifier\n",
        "import matplotlib.pyplot as plt\n",
        "\n",
        "error = []\n",
        "\n",
        "# CALCULATING ERROR FOR K VALUES BETWEEN 1 AND 50\n",
        "for i in range(1,51):\n",
        "  model = KNeighborsClassifier(i)\n",
        "  model.fit(x_train,y_train)\n",
        "  pred  = model.predict(x_test)\n",
        "  error.append(np.mean(pred != y_test))\n",
        "\n",
        "error\n"
      ],
      "metadata": {
        "colab": {
          "base_uri": "https://localhost:8080/"
        },
        "id": "DiUrLjokhDkf",
        "outputId": "ed0e182c-b820-46e0-937b-3c2d6efb394b"
      },
      "execution_count": 41,
      "outputs": [
        {
          "output_type": "stream",
          "name": "stderr",
          "text": [
            "/usr/local/lib/python3.7/dist-packages/sklearn/neighbors/_classification.py:198: DataConversionWarning: A column-vector y was passed when a 1d array was expected. Please change the shape of y to (n_samples,), for example using ravel().\n",
            "  return self._fit(X, y)\n",
            "/usr/local/lib/python3.7/dist-packages/sklearn/neighbors/_classification.py:198: DataConversionWarning: A column-vector y was passed when a 1d array was expected. Please change the shape of y to (n_samples,), for example using ravel().\n",
            "  return self._fit(X, y)\n",
            "/usr/local/lib/python3.7/dist-packages/sklearn/neighbors/_classification.py:198: DataConversionWarning: A column-vector y was passed when a 1d array was expected. Please change the shape of y to (n_samples,), for example using ravel().\n",
            "  return self._fit(X, y)\n",
            "/usr/local/lib/python3.7/dist-packages/sklearn/neighbors/_classification.py:198: DataConversionWarning: A column-vector y was passed when a 1d array was expected. Please change the shape of y to (n_samples,), for example using ravel().\n",
            "  return self._fit(X, y)\n",
            "/usr/local/lib/python3.7/dist-packages/sklearn/neighbors/_classification.py:198: DataConversionWarning: A column-vector y was passed when a 1d array was expected. Please change the shape of y to (n_samples,), for example using ravel().\n",
            "  return self._fit(X, y)\n",
            "/usr/local/lib/python3.7/dist-packages/sklearn/neighbors/_classification.py:198: DataConversionWarning: A column-vector y was passed when a 1d array was expected. Please change the shape of y to (n_samples,), for example using ravel().\n",
            "  return self._fit(X, y)\n",
            "/usr/local/lib/python3.7/dist-packages/sklearn/neighbors/_classification.py:198: DataConversionWarning: A column-vector y was passed when a 1d array was expected. Please change the shape of y to (n_samples,), for example using ravel().\n",
            "  return self._fit(X, y)\n",
            "/usr/local/lib/python3.7/dist-packages/sklearn/neighbors/_classification.py:198: DataConversionWarning: A column-vector y was passed when a 1d array was expected. Please change the shape of y to (n_samples,), for example using ravel().\n",
            "  return self._fit(X, y)\n",
            "/usr/local/lib/python3.7/dist-packages/sklearn/neighbors/_classification.py:198: DataConversionWarning: A column-vector y was passed when a 1d array was expected. Please change the shape of y to (n_samples,), for example using ravel().\n",
            "  return self._fit(X, y)\n",
            "/usr/local/lib/python3.7/dist-packages/sklearn/neighbors/_classification.py:198: DataConversionWarning: A column-vector y was passed when a 1d array was expected. Please change the shape of y to (n_samples,), for example using ravel().\n",
            "  return self._fit(X, y)\n",
            "/usr/local/lib/python3.7/dist-packages/sklearn/neighbors/_classification.py:198: DataConversionWarning: A column-vector y was passed when a 1d array was expected. Please change the shape of y to (n_samples,), for example using ravel().\n",
            "  return self._fit(X, y)\n",
            "/usr/local/lib/python3.7/dist-packages/sklearn/neighbors/_classification.py:198: DataConversionWarning: A column-vector y was passed when a 1d array was expected. Please change the shape of y to (n_samples,), for example using ravel().\n",
            "  return self._fit(X, y)\n",
            "/usr/local/lib/python3.7/dist-packages/sklearn/neighbors/_classification.py:198: DataConversionWarning: A column-vector y was passed when a 1d array was expected. Please change the shape of y to (n_samples,), for example using ravel().\n",
            "  return self._fit(X, y)\n",
            "/usr/local/lib/python3.7/dist-packages/sklearn/neighbors/_classification.py:198: DataConversionWarning: A column-vector y was passed when a 1d array was expected. Please change the shape of y to (n_samples,), for example using ravel().\n",
            "  return self._fit(X, y)\n",
            "/usr/local/lib/python3.7/dist-packages/sklearn/neighbors/_classification.py:198: DataConversionWarning: A column-vector y was passed when a 1d array was expected. Please change the shape of y to (n_samples,), for example using ravel().\n",
            "  return self._fit(X, y)\n",
            "/usr/local/lib/python3.7/dist-packages/sklearn/neighbors/_classification.py:198: DataConversionWarning: A column-vector y was passed when a 1d array was expected. Please change the shape of y to (n_samples,), for example using ravel().\n",
            "  return self._fit(X, y)\n",
            "/usr/local/lib/python3.7/dist-packages/sklearn/neighbors/_classification.py:198: DataConversionWarning: A column-vector y was passed when a 1d array was expected. Please change the shape of y to (n_samples,), for example using ravel().\n",
            "  return self._fit(X, y)\n",
            "/usr/local/lib/python3.7/dist-packages/sklearn/neighbors/_classification.py:198: DataConversionWarning: A column-vector y was passed when a 1d array was expected. Please change the shape of y to (n_samples,), for example using ravel().\n",
            "  return self._fit(X, y)\n",
            "/usr/local/lib/python3.7/dist-packages/sklearn/neighbors/_classification.py:198: DataConversionWarning: A column-vector y was passed when a 1d array was expected. Please change the shape of y to (n_samples,), for example using ravel().\n",
            "  return self._fit(X, y)\n",
            "/usr/local/lib/python3.7/dist-packages/sklearn/neighbors/_classification.py:198: DataConversionWarning: A column-vector y was passed when a 1d array was expected. Please change the shape of y to (n_samples,), for example using ravel().\n",
            "  return self._fit(X, y)\n",
            "/usr/local/lib/python3.7/dist-packages/sklearn/neighbors/_classification.py:198: DataConversionWarning: A column-vector y was passed when a 1d array was expected. Please change the shape of y to (n_samples,), for example using ravel().\n",
            "  return self._fit(X, y)\n",
            "/usr/local/lib/python3.7/dist-packages/sklearn/neighbors/_classification.py:198: DataConversionWarning: A column-vector y was passed when a 1d array was expected. Please change the shape of y to (n_samples,), for example using ravel().\n",
            "  return self._fit(X, y)\n",
            "/usr/local/lib/python3.7/dist-packages/sklearn/neighbors/_classification.py:198: DataConversionWarning: A column-vector y was passed when a 1d array was expected. Please change the shape of y to (n_samples,), for example using ravel().\n",
            "  return self._fit(X, y)\n",
            "/usr/local/lib/python3.7/dist-packages/sklearn/neighbors/_classification.py:198: DataConversionWarning: A column-vector y was passed when a 1d array was expected. Please change the shape of y to (n_samples,), for example using ravel().\n",
            "  return self._fit(X, y)\n",
            "/usr/local/lib/python3.7/dist-packages/sklearn/neighbors/_classification.py:198: DataConversionWarning: A column-vector y was passed when a 1d array was expected. Please change the shape of y to (n_samples,), for example using ravel().\n",
            "  return self._fit(X, y)\n",
            "/usr/local/lib/python3.7/dist-packages/sklearn/neighbors/_classification.py:198: DataConversionWarning: A column-vector y was passed when a 1d array was expected. Please change the shape of y to (n_samples,), for example using ravel().\n",
            "  return self._fit(X, y)\n",
            "/usr/local/lib/python3.7/dist-packages/sklearn/neighbors/_classification.py:198: DataConversionWarning: A column-vector y was passed when a 1d array was expected. Please change the shape of y to (n_samples,), for example using ravel().\n",
            "  return self._fit(X, y)\n",
            "/usr/local/lib/python3.7/dist-packages/sklearn/neighbors/_classification.py:198: DataConversionWarning: A column-vector y was passed when a 1d array was expected. Please change the shape of y to (n_samples,), for example using ravel().\n",
            "  return self._fit(X, y)\n",
            "/usr/local/lib/python3.7/dist-packages/sklearn/neighbors/_classification.py:198: DataConversionWarning: A column-vector y was passed when a 1d array was expected. Please change the shape of y to (n_samples,), for example using ravel().\n",
            "  return self._fit(X, y)\n",
            "/usr/local/lib/python3.7/dist-packages/sklearn/neighbors/_classification.py:198: DataConversionWarning: A column-vector y was passed when a 1d array was expected. Please change the shape of y to (n_samples,), for example using ravel().\n",
            "  return self._fit(X, y)\n",
            "/usr/local/lib/python3.7/dist-packages/sklearn/neighbors/_classification.py:198: DataConversionWarning: A column-vector y was passed when a 1d array was expected. Please change the shape of y to (n_samples,), for example using ravel().\n",
            "  return self._fit(X, y)\n",
            "/usr/local/lib/python3.7/dist-packages/sklearn/neighbors/_classification.py:198: DataConversionWarning: A column-vector y was passed when a 1d array was expected. Please change the shape of y to (n_samples,), for example using ravel().\n",
            "  return self._fit(X, y)\n",
            "/usr/local/lib/python3.7/dist-packages/sklearn/neighbors/_classification.py:198: DataConversionWarning: A column-vector y was passed when a 1d array was expected. Please change the shape of y to (n_samples,), for example using ravel().\n",
            "  return self._fit(X, y)\n",
            "/usr/local/lib/python3.7/dist-packages/sklearn/neighbors/_classification.py:198: DataConversionWarning: A column-vector y was passed when a 1d array was expected. Please change the shape of y to (n_samples,), for example using ravel().\n",
            "  return self._fit(X, y)\n",
            "/usr/local/lib/python3.7/dist-packages/sklearn/neighbors/_classification.py:198: DataConversionWarning: A column-vector y was passed when a 1d array was expected. Please change the shape of y to (n_samples,), for example using ravel().\n",
            "  return self._fit(X, y)\n",
            "/usr/local/lib/python3.7/dist-packages/sklearn/neighbors/_classification.py:198: DataConversionWarning: A column-vector y was passed when a 1d array was expected. Please change the shape of y to (n_samples,), for example using ravel().\n",
            "  return self._fit(X, y)\n",
            "/usr/local/lib/python3.7/dist-packages/sklearn/neighbors/_classification.py:198: DataConversionWarning: A column-vector y was passed when a 1d array was expected. Please change the shape of y to (n_samples,), for example using ravel().\n",
            "  return self._fit(X, y)\n",
            "/usr/local/lib/python3.7/dist-packages/sklearn/neighbors/_classification.py:198: DataConversionWarning: A column-vector y was passed when a 1d array was expected. Please change the shape of y to (n_samples,), for example using ravel().\n",
            "  return self._fit(X, y)\n",
            "/usr/local/lib/python3.7/dist-packages/sklearn/neighbors/_classification.py:198: DataConversionWarning: A column-vector y was passed when a 1d array was expected. Please change the shape of y to (n_samples,), for example using ravel().\n",
            "  return self._fit(X, y)\n",
            "/usr/local/lib/python3.7/dist-packages/sklearn/neighbors/_classification.py:198: DataConversionWarning: A column-vector y was passed when a 1d array was expected. Please change the shape of y to (n_samples,), for example using ravel().\n",
            "  return self._fit(X, y)\n",
            "/usr/local/lib/python3.7/dist-packages/sklearn/neighbors/_classification.py:198: DataConversionWarning: A column-vector y was passed when a 1d array was expected. Please change the shape of y to (n_samples,), for example using ravel().\n",
            "  return self._fit(X, y)\n",
            "/usr/local/lib/python3.7/dist-packages/sklearn/neighbors/_classification.py:198: DataConversionWarning: A column-vector y was passed when a 1d array was expected. Please change the shape of y to (n_samples,), for example using ravel().\n",
            "  return self._fit(X, y)\n",
            "/usr/local/lib/python3.7/dist-packages/sklearn/neighbors/_classification.py:198: DataConversionWarning: A column-vector y was passed when a 1d array was expected. Please change the shape of y to (n_samples,), for example using ravel().\n",
            "  return self._fit(X, y)\n",
            "/usr/local/lib/python3.7/dist-packages/sklearn/neighbors/_classification.py:198: DataConversionWarning: A column-vector y was passed when a 1d array was expected. Please change the shape of y to (n_samples,), for example using ravel().\n",
            "  return self._fit(X, y)\n",
            "/usr/local/lib/python3.7/dist-packages/sklearn/neighbors/_classification.py:198: DataConversionWarning: A column-vector y was passed when a 1d array was expected. Please change the shape of y to (n_samples,), for example using ravel().\n",
            "  return self._fit(X, y)\n",
            "/usr/local/lib/python3.7/dist-packages/sklearn/neighbors/_classification.py:198: DataConversionWarning: A column-vector y was passed when a 1d array was expected. Please change the shape of y to (n_samples,), for example using ravel().\n",
            "  return self._fit(X, y)\n",
            "/usr/local/lib/python3.7/dist-packages/sklearn/neighbors/_classification.py:198: DataConversionWarning: A column-vector y was passed when a 1d array was expected. Please change the shape of y to (n_samples,), for example using ravel().\n",
            "  return self._fit(X, y)\n",
            "/usr/local/lib/python3.7/dist-packages/sklearn/neighbors/_classification.py:198: DataConversionWarning: A column-vector y was passed when a 1d array was expected. Please change the shape of y to (n_samples,), for example using ravel().\n",
            "  return self._fit(X, y)\n",
            "/usr/local/lib/python3.7/dist-packages/sklearn/neighbors/_classification.py:198: DataConversionWarning: A column-vector y was passed when a 1d array was expected. Please change the shape of y to (n_samples,), for example using ravel().\n",
            "  return self._fit(X, y)\n",
            "/usr/local/lib/python3.7/dist-packages/sklearn/neighbors/_classification.py:198: DataConversionWarning: A column-vector y was passed when a 1d array was expected. Please change the shape of y to (n_samples,), for example using ravel().\n",
            "  return self._fit(X, y)\n"
          ]
        },
        {
          "output_type": "execute_result",
          "data": {
            "text/plain": [
              "[0.35348739727624284,\n",
              " 0.29876195338293243,\n",
              " 0.3387997390169271,\n",
              " 0.30608437193203736,\n",
              " 0.3300214009902224,\n",
              " 0.3069836163152608,\n",
              " 0.32937908357363427,\n",
              " 0.31006673991488387,\n",
              " 0.325311073268576,\n",
              " 0.30843953579286054,\n",
              " 0.326338781135117,\n",
              " 0.31028084572041326,\n",
              " 0.3208576725135648,\n",
              " 0.3102380245593074,\n",
              " 0.3195730376803885,\n",
              " 0.30749747024853125,\n",
              " 0.318716614458271,\n",
              " 0.3087392839206017,\n",
              " 0.31768890659172994,\n",
              " 0.31199369216464834,\n",
              " 0.3194445741970709,\n",
              " 0.31122291126474255,\n",
              " 0.31708941033624766,\n",
              " 0.31195087100354246,\n",
              " 0.31953021651928265,\n",
              " 0.31182240752022483,\n",
              " 0.31764608543062406,\n",
              " 0.31212215564796597,\n",
              " 0.31918764723043563,\n",
              " 0.3126788307423424,\n",
              " 0.31713223149735353,\n",
              " 0.310366488042625,\n",
              " 0.3185453298138475,\n",
              " 0.3116511228758013,\n",
              " 0.31614734479191836,\n",
              " 0.30766875489295475,\n",
              " 0.31370653860888337,\n",
              " 0.30916749553166045,\n",
              " 0.3126360095812365,\n",
              " 0.3085251781150723,\n",
              " 0.3140491078977304,\n",
              " 0.30895338972613107,\n",
              " 0.3142203925421539,\n",
              " 0.30976699178714273,\n",
              " 0.31370653860888337,\n",
              " 0.30938160133718984,\n",
              " 0.31370653860888337,\n",
              " 0.30993827643156624,\n",
              " 0.315933238986389,\n",
              " 0.3122506191312836]"
            ]
          },
          "metadata": {},
          "execution_count": 41
        }
      ]
    },
    {
      "cell_type": "code",
      "source": [
        "plt.plot(range(1,51),error)\n",
        "plt.title(\"ERROR RATE K VALUES\")\n",
        "plt.xlabel(\"K VALUES\")\n",
        "plt.ylabel(\"ERROR RATE\")"
      ],
      "metadata": {
        "colab": {
          "base_uri": "https://localhost:8080/",
          "height": 312
        },
        "id": "k00IJ5WLi00W",
        "outputId": "93c23e5f-7c1d-4a0b-ea98-648c3646696b"
      },
      "execution_count": 42,
      "outputs": [
        {
          "output_type": "execute_result",
          "data": {
            "text/plain": [
              "Text(0, 0.5, 'ERROR RATE')"
            ]
          },
          "metadata": {},
          "execution_count": 42
        },
        {
          "output_type": "display_data",
          "data": {
            "image/png": "[encoded data removed]",
            "text/plain": [
              "<Figure size 432x288 with 1 Axes>"
            ]
          },
          "metadata": {
            "needs_background": "light"
          }
        }
      ]
    },
    {
      "cell_type": "markdown",
      "source": [
        "## ***TRAINING THE DATASET***"
      ],
      "metadata": {
        "id": "1eHSGzihl2a3"
      }
    },
    {
      "cell_type": "code",
      "source": [
        "from sklearn.neighbors import KNeighborsClassifier\n",
        "\n",
        "KNN_Model = KNeighborsClassifier(n_neighbors = 6)\n",
        "\n",
        "KNN_Model.fit(x_train,y_train)"
      ],
      "metadata": {
        "colab": {
          "base_uri": "https://localhost:8080/"
        },
        "id": "ZHq26GYll7OH",
        "outputId": "b6156382-0788-4228-c350-819f122a1e75"
      },
      "execution_count": 53,
      "outputs": [
        {
          "output_type": "stream",
          "name": "stderr",
          "text": [
            "/usr/local/lib/python3.7/dist-packages/sklearn/neighbors/_classification.py:198: DataConversionWarning: A column-vector y was passed when a 1d array was expected. Please change the shape of y to (n_samples,), for example using ravel().\n",
            "  return self._fit(X, y)\n"
          ]
        },
        {
          "output_type": "execute_result",
          "data": {
            "text/plain": [
              "KNeighborsClassifier(n_neighbors=6)"
            ]
          },
          "metadata": {},
          "execution_count": 53
        }
      ]
    },
    {
      "cell_type": "markdown",
      "source": [
        "## ***PREDICTING THE RESULT USING THE TRAINED MODEL***"
      ],
      "metadata": {
        "id": "dXlmjRYrmy78"
      }
    },
    {
      "cell_type": "code",
      "source": [
        "y_pred = KNN_Model.predict(x_test)\n",
        "y_pred"
      ],
      "metadata": {
        "colab": {
          "base_uri": "https://localhost:8080/"
        },
        "id": "baHnntyYmden",
        "outputId": "833ff482-2d50-4375-d8ae-369734eb0f9c"
      },
      "execution_count": 54,
      "outputs": [
        {
          "output_type": "execute_result",
          "data": {
            "text/plain": [
              "array([0, 0, 0, ..., 0, 0, 0])"
            ]
          },
          "metadata": {},
          "execution_count": 54
        }
      ]
    },
    {
      "cell_type": "markdown",
      "source": [
        "## ***CALCULATING THE ACCURACY OF THE TRAINED MODEL***"
      ],
      "metadata": {
        "id": "dJQQLSoWnRpx"
      }
    },
    {
      "cell_type": "code",
      "source": [
        "from sklearn.metrics import confusion_matrix, accuracy_score\n",
        "print(\"confusion_matrix:\")\n",
        "print(confusion_matrix(y_pred,y_test))\n",
        "print(\"accuracy_score:\",accuracy_score(y_pred,y_test)*100,\"%\")"
      ],
      "metadata": {
        "colab": {
          "base_uri": "https://localhost:8080/"
        },
        "id": "01HPAFs4nI6h",
        "outputId": "fdf7c333-465b-45fd-b9a3-d43612a7fc3c"
      },
      "execution_count": 55,
      "outputs": [
        {
          "output_type": "stream",
          "name": "stdout",
          "text": [
            "confusion_matrix:\n",
            "[[8777 1836]\n",
            " [ 521 1077]]\n",
            "accuracy_score: 80.69773155351731 %\n"
          ]
        }
      ]
    },
    {
      "cell_type": "markdown",
      "source": [
        "## ***PREDICTING THE OUTPUT OF SINGLE TEST DATA USING THE TRAINED MODEL***"
      ],
      "metadata": {
        "id": "pqBny1vER-Uk"
      }
    },
    {
      "cell_type": "code",
      "source": [
        "print(\"ACUTAL OUPUT: \",y_test[90])\n",
        "print(\"PREDICTED OUTPUT: \")\n",
        "KNN_Model.predict(np.reshape(x_test[90],(1,4)))"
      ],
      "metadata": {
        "colab": {
          "base_uri": "https://localhost:8080/"
        },
        "id": "YMbYF87AR-CA",
        "outputId": "acb4dab9-1995-4435-d344-b2ec599bb08a"
      },
      "execution_count": 59,
      "outputs": [
        {
          "output_type": "stream",
          "name": "stdout",
          "text": [
            "ACUTAL OUPUT:  [0]\n",
            "PREDICTED OUTPUT: \n"
          ]
        },
        {
          "output_type": "execute_result",
          "data": {
            "text/plain": [
              "array([0])"
            ]
          },
          "metadata": {},
          "execution_count": 59
        }
      ]
    }
  ]
}